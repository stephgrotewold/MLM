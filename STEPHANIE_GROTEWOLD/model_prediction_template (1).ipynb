{
 "cells": [
  {
   "cell_type": "markdown",
   "metadata": {},
   "source": [
    "# __Proyect 3__\n",
    "# Model delivery Template\n",
    "## Use this template to test your persisted model. \n",
    "\n",
    "### This will ensure that we can __grade it correctly__ an the model is able to __execute__ without errors.\n",
    "### Please note that:\n",
    "- `load_data()` function should load data in your computer. During the grading process it will be re-defined to load a __test dataset__.\n",
    "- `load_model()` will not be modified and you should include all custom transformers that you have defined. Otherwise the model will raise an error.\n",
    "- Your model has to be persisted using the following structur: `name_lastname.pkl`\n",
    "- Make sure that the code that you submit in this template is able to predict correctly once provided with data ->  `model.predict(data)`"
   ]
  },
  {
   "cell_type": "code",
   "execution_count": 2,
   "metadata": {},
   "outputs": [],
   "source": [
    "import pickle\n",
    "import numpy as np\n",
    "import pandas as pd\n",
    "import seaborn as sns\n",
    "from sklearn.svm import SVC\n",
    "import matplotlib.pyplot as plt\n",
    "from xgboost import XGBClassifier\n",
    "from sklearn.pipeline import Pipeline\n",
    "from sklearn.impute import SimpleImputer\n",
    "from scipy.stats import normaltest, anderson\n",
    "from sklearn.compose import ColumnTransformer\n",
    "from statsmodels.tools.tools import add_constant\n",
    "from sklearn.ensemble import RandomForestClassifier\n",
    "from sklearn.linear_model import LogisticRegression\n",
    "from imblearn.over_sampling import RandomOverSampler\n",
    "from imblearn.pipeline import Pipeline as ImblearnPipeline\n",
    "from sklearn.model_selection import train_test_split, GridSearchCV\n",
    "from statsmodels.stats.outliers_influence import variance_inflation_factor\n",
    "from sklearn.metrics import classification_report, f1_score, accuracy_score\n",
    "from sklearn.preprocessing import LabelEncoder, OneHotEncoder, StandardScaler"
   ]
  },
  {
   "cell_type": "code",
   "execution_count": 3,
   "metadata": {},
   "outputs": [],
   "source": [
    "def load_data(filename):\n",
    "    \"\"\" Load dataset from filename\n",
    "    Args:\n",
    "        filename (string): Path to data\n",
    "        \n",
    "    Returns:\n",
    "        df (DataFrame): Dataset from file\n",
    "    \"\"\"\n",
    "    \n",
    "    df = pd.read_csv(filename)\n",
    "    target = ['RainTomorrow']\n",
    "    df = df.dropna(subset='RainTomorrow', axis=0)\n",
    "\n",
    "    y = df[target]\n",
    "    X = df.drop(target, axis=1)\n",
    "\n",
    "    return X,y"
   ]
  },
  {
   "cell_type": "code",
   "execution_count": 4,
   "metadata": {},
   "outputs": [],
   "source": [
    "# load model funtion here:\n",
    "# --------------------------------------------------------------------------------------------------------        \n",
    "def load_model(filename=\"Stephanie_Grotewold.pkl\"):\n",
    "    \"\"\"\n",
    "    \"\"\"\n",
    "    # load from disk\n",
    "    loaded_model = pickle.load(open(filename, 'rb'))\n",
    "    \n",
    "    return loaded_model"
   ]
  },
  {
   "cell_type": "code",
   "execution_count": 5,
   "metadata": {},
   "outputs": [
    {
     "name": "stdout",
     "output_type": "stream",
     "text": [
      "[1 1 1 1]\n"
     ]
    }
   ],
   "source": [
    "# test that your model can predict values here:\n",
    "# --------------------------------------------------------------------------------------------------------        \n",
    "\n",
    "filename = 'train.csv'\n",
    "#filename = 'test.csv'\n",
    "\n",
    "X,y = load_data(filename)\n",
    "\n",
    "model_filename = 'Stephanie_Grotewold.pkl'\n",
    "model = load_model(model_filename)\n",
    "\n",
    "\n",
    "# predict\n",
    "print(model.predict(X[200:204]))"
   ]
  }
 ],
 "metadata": {
  "kernelspec": {
   "display_name": "Python 3.10.13 64-bit",
   "language": "python",
   "name": "python3"
  },
  "language_info": {
   "codemirror_mode": {
    "name": "ipython",
    "version": 3
   },
   "file_extension": ".py",
   "mimetype": "text/x-python",
   "name": "python",
   "nbconvert_exporter": "python",
   "pygments_lexer": "ipython3",
   "version": "3.10.13"
  },
  "vscode": {
   "interpreter": {
    "hash": "9a89bd5f666cea76073896cca09fda3a9e7f17d646154f74aa45ae7279a04a64"
   }
  }
 },
 "nbformat": 4,
 "nbformat_minor": 4
}
